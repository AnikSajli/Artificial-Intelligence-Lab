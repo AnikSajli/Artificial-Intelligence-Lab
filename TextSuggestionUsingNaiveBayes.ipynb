{
  "nbformat": 4,
  "nbformat_minor": 0,
  "metadata": {
    "colab": {
      "name": "TextSuggestionUsingNaiveBayes.ipynb",
      "provenance": [],
      "collapsed_sections": []
    },
    "kernelspec": {
      "name": "python3",
      "display_name": "Python 3"
    }
  },
  "cells": [
    {
      "cell_type": "code",
      "metadata": {
        "id": "k5zh5aLz8Niv"
      },
      "source": [
        "import nltk\r\n",
        "from nltk import trigrams\r\n",
        "from nltk.corpus import brown\r\n",
        "from collections import defaultdict"
      ],
      "execution_count": 1,
      "outputs": []
    },
    {
      "cell_type": "code",
      "metadata": {
        "colab": {
          "base_uri": "https://localhost:8080/"
        },
        "id": "IjRn2Kw38Yi2",
        "outputId": "b248054d-7c58-4254-efd3-8d703c348a5c"
      },
      "source": [
        "nltk.download('brown')"
      ],
      "execution_count": 2,
      "outputs": [
        {
          "output_type": "stream",
          "text": [
            "[nltk_data] Downloading package brown to /root/nltk_data...\n",
            "[nltk_data]   Package brown is already up-to-date!\n"
          ],
          "name": "stdout"
        },
        {
          "output_type": "execute_result",
          "data": {
            "text/plain": [
              "True"
            ]
          },
          "metadata": {
            "tags": []
          },
          "execution_count": 2
        }
      ]
    },
    {
      "cell_type": "code",
      "metadata": {
        "id": "WPUnCHYj8bUf"
      },
      "source": [
        "uniModel = defaultdict(lambda: 0)\r\n",
        "biModel = defaultdict(lambda: defaultdict(lambda: 0))\r\n",
        "triModel = defaultdict(lambda: defaultdict(lambda: 0))\r\n",
        "model1 = defaultdict(lambda: set())\r\n",
        "model2 = defaultdict(lambda: set())"
      ],
      "execution_count": 3,
      "outputs": []
    },
    {
      "cell_type": "code",
      "metadata": {
        "id": "ktnCA7xo8fju"
      },
      "source": [
        "def convert_to_lower(c):\r\n",
        "  if type(c)==str:\r\n",
        "    return c.lower()\r\n",
        "  return c"
      ],
      "execution_count": 4,
      "outputs": []
    },
    {
      "cell_type": "code",
      "metadata": {
        "id": "4Bsr_FaE8tW2"
      },
      "source": [
        "totalWord = 0\r\n",
        "for sentence in brown.sents():\r\n",
        "  for word in sentence:\r\n",
        "    uniModel[word] += 1\r\n",
        "    totalWord +=1\r\n",
        "\r\n",
        "  for firstWord, secondWord, thirdWord in trigrams(sentence, pad_right=True, pad_left=True):\r\n",
        "    firstWord = convert_to_lower(firstWord)\r\n",
        "    secondWord = convert_to_lower(secondWord)\r\n",
        "    thirdWord = convert_to_lower(thirdWord)\r\n",
        "\r\n",
        "    biModel[thirdWord][secondWord] += 1\r\n",
        "    triModel[thirdWord][firstWord] += 1\r\n",
        "\r\n",
        "    model1[secondWord].add(thirdWord)\r\n",
        "    model2[firstWord].add(thirdWord)"
      ],
      "execution_count": 5,
      "outputs": []
    },
    {
      "cell_type": "code",
      "metadata": {
        "id": "Yj5K2ag48xTn"
      },
      "source": [
        "def calculate_probablities(model):\r\n",
        "  for nextWord in model:\r\n",
        "    totalCount = float(sum(model[nextWord].values()))\r\n",
        "    for prevWord in model[nextWord]:\r\n",
        "        model[nextWord][prevWord] /= totalCount\r\n",
        "\r\n",
        "calculate_probablities(biModel)\r\n",
        "calculate_probablities(triModel)\r\n",
        "\r\n",
        "for word in uniModel:\r\n",
        "  uniModel[word] /= totalWord"
      ],
      "execution_count": 6,
      "outputs": []
    },
    {
      "cell_type": "code",
      "metadata": {
        "id": "K3gFcgK98yKQ"
      },
      "source": [
        "def calculate_trigram_Probability(firstWord, secondWord, thirdWord):\r\n",
        "  return uniModel[thirdWord]*biModel[thirdWord][secondWord]*triModel[thirdWord][firstWord]"
      ],
      "execution_count": 7,
      "outputs": []
    },
    {
      "cell_type": "code",
      "metadata": {
        "id": "JdB7qm1981zu"
      },
      "source": [
        "def predict_word(firstWord,secondWord):\r\n",
        "  response = []\r\n",
        "  for thirdWord in model1[secondWord] & model2[firstWord]:\r\n",
        "    res = calculate_trigram_Probability(firstWord,secondWord,thirdWord)\r\n",
        "    response.append((thirdWord,res))\r\n",
        "  return response"
      ],
      "execution_count": 8,
      "outputs": []
    },
    {
      "cell_type": "code",
      "metadata": {
        "colab": {
          "base_uri": "https://localhost:8080/"
        },
        "id": "qOOwd03q840A",
        "outputId": "5a979bf7-fe6b-486d-8a2b-2a1f11706d27"
      },
      "source": [
        "while(True):\r\n",
        "    text = input(\"Enter text : \")\r\n",
        "    if text == \"STOP\":\r\n",
        "        break\r\n",
        "    \r\n",
        "    else:\r\n",
        "        try:\r\n",
        "            text = text.split(\" \")\r\n",
        "            data = predict_word(text[-2], text[-1])\r\n",
        "            sorted(data, key=lambda o: o[1], reverse=True)\r\n",
        "            print(\"---> SUGGESTIONS <---\")\r\n",
        "            print(data[:10])\r\n",
        "            print()\r\n",
        "            print()\r\n",
        "            \r\n",
        "        except:\r\n",
        "            continue"
      ],
      "execution_count": null,
      "outputs": [
        {
          "output_type": "stream",
          "text": [
            "Enter a line (In lower charecter): i live in\n",
            "################## SUGGESTIONS ##################\n",
            "[('accordance', 8.611840246918683e-07), ('modern', 3.954012969200499e-08), ('pasadena', 0.0), ('is', 8.436397477790134e-11), ('missoula', 0.0), ('it', 1.652323115868559e-08), ('?', 1.8350394730276335e-09), (';', 3.094444932417781e-10), ('.', 5.933663688956252e-09), ('trade', 3.950269524969302e-08)]\n",
            "\n",
            "\n",
            "Enter a line (In lower charecter): what's on your\n",
            "################## SUGGESTIONS ##################\n",
            "[('heels', 2.39308226143109e-07), ('music', 7.16176700918306e-09), ('new', 4.097769845067499e-09), ('tour', 1.336721552658552e-07), ('body', 3.041095655352245e-09), ('cheek', 2.1529600617296709e-07), ('sick', 1.6223766708920243e-08), ('entrance', 1.4843430404045745e-08), ('problem', 1.645557772584366e-08), ('house', 1.380730855178055e-08)]\n",
            "\n",
            "\n",
            "Enter a line (In lower charecter): bangladesh is a\n",
            "################## SUGGESTIONS ##################\n",
            "[('music', 4.297060205509836e-08), ('poor', 2.9782979505359e-07), ('problem', 1.2286831368629934e-06), ('reflection', 4.036800115743133e-07), ('house', 2.0710962827670827e-08), ('sleeping', 1.0474624889414572e-07), ('full', 3.223335290907182e-07), ('frank', 1.2291986511605388e-08), ('type', 4.241331321607452e-08), ('conscious', 1.6849252657014815e-07)]\n",
            "\n",
            "\n",
            "Enter a line (In lower charecter): STOP\n"
          ],
          "name": "stdout"
        }
      ]
    }
  ]
}